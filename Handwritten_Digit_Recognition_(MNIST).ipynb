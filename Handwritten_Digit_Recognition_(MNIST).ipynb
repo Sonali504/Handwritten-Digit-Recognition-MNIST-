{
  "cells": [
    {
      "cell_type": "markdown",
      "metadata": {
        "id": "view-in-github",
        "colab_type": "text"
      },
      "source": [
        "<a href=\"https://colab.research.google.com/github/Sonali504/Handwritten-Digit-Recognition-MNIST-/blob/main/Handwritten_Digit_Recognition_(MNIST).ipynb\" target=\"_parent\"><img src=\"https://colab.research.google.com/assets/colab-badge.svg\" alt=\"Open In Colab\"/></a>"
      ]
    },
    {
      "cell_type": "code",
      "execution_count": 1,
      "metadata": {
        "id": "xA_ttjOtyxD2"
      },
      "outputs": [],
      "source": [
        "# Step 1: Import Libraries\n",
        "\n",
        "import pandas as pd\n",
        "import numpy as np\n",
        "import matplotlib.pyplot as plt\n",
        "import seaborn as sns\n",
        "from sklearn.datasets import fetch_openml\n",
        "from sklearn.model_selection import train_test_split\n",
        "from sklearn.linear_model import LogisticRegression\n",
        "from sklearn.ensemble import RandomForestClassifier\n",
        "from sklearn.svm import SVC\n",
        "from sklearn.svm import LinearSVC\n",
        "from sklearn.metrics import accuracy_score, classification_report, confusion_matrix"
      ]
    },
    {
      "cell_type": "code",
      "execution_count": 2,
      "metadata": {
        "id": "KGn17HB10-__",
        "colab": {
          "base_uri": "https://localhost:8080/"
        },
        "outputId": "e6d71091-ca3f-4f23-c494-a8af0c341e6c"
      },
      "outputs": [
        {
          "output_type": "stream",
          "name": "stdout",
          "text": [
            "Loading MNIST dataset...\n"
          ]
        }
      ],
      "source": [
        "# Step 2: Load MNIST Dataset\n",
        "\n",
        "print('Loading MNIST dataset...')\n",
        "mnist=fetch_openml('mnist_784', version=1, as_frame=False)"
      ]
    },
    {
      "cell_type": "code",
      "execution_count": 3,
      "metadata": {
        "id": "XOQwvE_a1qrj"
      },
      "outputs": [],
      "source": [
        "x,y= mnist['data'], mnist['target']\n",
        "y= y.astype(np.int8)"
      ]
    },
    {
      "cell_type": "code",
      "execution_count": 4,
      "metadata": {
        "id": "dqrKQcfu2N2g",
        "colab": {
          "base_uri": "https://localhost:8080/"
        },
        "outputId": "5a694c2e-f290-47cb-eac3-f8afce68fe7d"
      },
      "outputs": [
        {
          "output_type": "stream",
          "name": "stdout",
          "text": [
            "Shape of X:  (70000, 784)\n",
            "Shape of Y:  (70000,)\n"
          ]
        }
      ],
      "source": [
        "print('Shape of X: ', x.shape)\n",
        "print('Shape of Y: ', y.shape)"
      ]
    },
    {
      "cell_type": "code",
      "execution_count": 5,
      "metadata": {
        "id": "sM0cxv_j2bpf"
      },
      "outputs": [],
      "source": [
        "# Step 3: Train-Test Split\n",
        "\n",
        "x_train, x_test, y_train, y_test= train_test_split(x,y, test_size=0.2, random_state=42)"
      ]
    },
    {
      "cell_type": "code",
      "execution_count": 6,
      "metadata": {
        "colab": {
          "base_uri": "https://localhost:8080/"
        },
        "id": "rDZOdkFr-2hd",
        "outputId": "951cea80-d3c1-4130-e015-313a82929867"
      },
      "outputs": [
        {
          "output_type": "stream",
          "name": "stdout",
          "text": [
            "\n",
            " Training Logistic Regression...\n",
            "Accuracy (Logistic Regression): 0.9178571428571428\n",
            "Classification Report:\n",
            "               precision    recall  f1-score   support\n",
            "\n",
            "           0       0.96      0.96      0.96      1343\n",
            "           1       0.95      0.97      0.96      1600\n",
            "           2       0.91      0.89      0.90      1380\n",
            "           3       0.90      0.91      0.90      1433\n",
            "           4       0.92      0.92      0.92      1295\n",
            "           5       0.89      0.85      0.87      1273\n",
            "           6       0.94      0.95      0.95      1396\n",
            "           7       0.93      0.94      0.93      1503\n",
            "           8       0.87      0.87      0.87      1357\n",
            "           9       0.90      0.89      0.90      1420\n",
            "\n",
            "    accuracy                           0.92     14000\n",
            "   macro avg       0.92      0.92      0.92     14000\n",
            "weighted avg       0.92      0.92      0.92     14000\n",
            "\n"
          ]
        },
        {
          "output_type": "stream",
          "name": "stderr",
          "text": [
            "/usr/local/lib/python3.12/dist-packages/sklearn/linear_model/_logistic.py:465: ConvergenceWarning: lbfgs failed to converge (status=1):\n",
            "STOP: TOTAL NO. OF ITERATIONS REACHED LIMIT.\n",
            "\n",
            "Increase the number of iterations (max_iter) or scale the data as shown in:\n",
            "    https://scikit-learn.org/stable/modules/preprocessing.html\n",
            "Please also refer to the documentation for alternative solver options:\n",
            "    https://scikit-learn.org/stable/modules/linear_model.html#logistic-regression\n",
            "  n_iter_i = _check_optimize_result(\n"
          ]
        }
      ],
      "source": [
        "print(\"\\n Training Logistic Regression...\")\n",
        "log_reg = LogisticRegression(max_iter=100, solver=\"lbfgs\")\n",
        "log_reg.fit(x_train, y_train)\n",
        "y_pred_log = log_reg.predict(x_test)\n",
        "\n",
        "print(\"Accuracy (Logistic Regression):\", accuracy_score(y_test, y_pred_log))\n",
        "print(\"Classification Report:\\n\", classification_report(y_test, y_pred_log))"
      ]
    },
    {
      "cell_type": "code",
      "execution_count": 7,
      "metadata": {
        "id": "k9nnwRRK6wvL",
        "colab": {
          "base_uri": "https://localhost:8080/"
        },
        "outputId": "97d479ee-04ae-41a4-afab-6f76399ba633"
      },
      "outputs": [
        {
          "output_type": "stream",
          "name": "stdout",
          "text": [
            "\n",
            "  Training Random Forest Classifier...\n",
            "Accuracy (Random Forest):  0.9672857142857143\n",
            "Classification Report: \n",
            "               precision    recall  f1-score   support\n",
            "\n",
            "           0       0.98      0.99      0.99      1343\n",
            "           1       0.98      0.98      0.98      1600\n",
            "           2       0.95      0.97      0.96      1380\n",
            "           3       0.96      0.95      0.96      1433\n",
            "           4       0.96      0.97      0.97      1295\n",
            "           5       0.97      0.96      0.97      1273\n",
            "           6       0.98      0.98      0.98      1396\n",
            "           7       0.97      0.97      0.97      1503\n",
            "           8       0.96      0.95      0.96      1357\n",
            "           9       0.96      0.95      0.95      1420\n",
            "\n",
            "    accuracy                           0.97     14000\n",
            "   macro avg       0.97      0.97      0.97     14000\n",
            "weighted avg       0.97      0.97      0.97     14000\n",
            "\n"
          ]
        }
      ],
      "source": [
        " #Random Forest Classifier\n",
        "\n",
        "print('\\n  Training Random Forest Classifier...')\n",
        "rf= RandomForestClassifier(n_estimators=100, random_state=42)\n",
        "rf.fit(x_train, y_train)\n",
        "y_pred_rf= rf.predict(x_test)\n",
        "\n",
        "\n",
        "print('Accuracy (Random Forest): ', accuracy_score(y_test, y_pred_rf))\n",
        "print(\"Classification Report: \\n\", classification_report(y_test, y_pred_rf))"
      ]
    },
    {
      "cell_type": "code",
      "source": [
        "print('\\n Training Linear Support Vector Machine (SVM)...')\n",
        "svm = LinearSVC(max_iter=100, random_state=42)\n",
        "svm.fit(x_train, y_train)\n",
        "y_pred_svm = svm.predict(x_test)\n",
        "\n",
        "print('Accuracy (SVM): ', accuracy_score(y_test, y_pred_svm))\n",
        "print(\"Classification Report: \\n\", classification_report(y_test, y_pred_svm))"
      ],
      "metadata": {
        "id": "tWpqtRB1Pm9q",
        "colab": {
          "base_uri": "https://localhost:8080/"
        },
        "outputId": "948c9bd7-dce1-40fb-a9a4-f9e3557ea22b"
      },
      "execution_count": 8,
      "outputs": [
        {
          "output_type": "stream",
          "name": "stdout",
          "text": [
            "\n",
            " Training Linear Support Vector Machine (SVM)...\n",
            "Accuracy (SVM):  0.9135714285714286\n",
            "Classification Report: \n",
            "               precision    recall  f1-score   support\n",
            "\n",
            "           0       0.95      0.97      0.96      1343\n",
            "           1       0.94      0.97      0.96      1600\n",
            "           2       0.91      0.89      0.90      1380\n",
            "           3       0.89      0.88      0.89      1433\n",
            "           4       0.91      0.93      0.92      1295\n",
            "           5       0.88      0.87      0.87      1273\n",
            "           6       0.94      0.95      0.95      1396\n",
            "           7       0.93      0.94      0.93      1503\n",
            "           8       0.89      0.83      0.86      1357\n",
            "           9       0.89      0.88      0.89      1420\n",
            "\n",
            "    accuracy                           0.91     14000\n",
            "   macro avg       0.91      0.91      0.91     14000\n",
            "weighted avg       0.91      0.91      0.91     14000\n",
            "\n"
          ]
        }
      ]
    },
    {
      "cell_type": "code",
      "execution_count": 10,
      "metadata": {
        "id": "_0Qf9rxHCumI",
        "colab": {
          "base_uri": "https://localhost:8080/",
          "height": 515
        },
        "outputId": "e0ef1932-787d-4e6b-8a26-5d201ddc716f"
      },
      "outputs": [
        {
          "output_type": "display_data",
          "data": {
            "text/plain": [
              "<Figure size 1000x500 with 10 Axes>"
            ],
            "image/png": "[encoded data removed]"
          },
          "metadata": {}
        }
      ],
      "source": [
        "# Step 7: Show Some Predictions\n",
        "\n",
        "plt.figure(figsize=(10,5))\n",
        "for i in range(10):\n",
        "    plt.subplot(2,5,i+1)\n",
        "    plt.imshow(x_test[i].reshape(28,28), cmap='gray')\n",
        "    plt.title(f\"True: {y_test[i]}\\nLogReg: {y_pred_log[i]}\\nRF: {y_pred_rf[i]}\")\n",
        "    plt.axis(\"off\")\n",
        "plt.tight_layout()\n",
        "plt.show()\n"
      ]
    },
    {
      "cell_type": "code",
      "source": [],
      "metadata": {
        "id": "j054IF5u70Pt"
      },
      "execution_count": null,
      "outputs": []
    }
  ],
  "metadata": {
    "colab": {
      "provenance": [],
      "authorship_tag": "ABX9TyMZPdy3/QP/AE0fj9qDoANV",
      "include_colab_link": true
    },
    "kernelspec": {
      "display_name": "Python 3",
      "name": "python3"
    },
    "language_info": {
      "name": "python"
    }
  },
  "nbformat": 4,
  "nbformat_minor": 0
}